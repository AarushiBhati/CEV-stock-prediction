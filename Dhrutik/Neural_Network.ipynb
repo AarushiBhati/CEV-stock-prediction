{
  "nbformat": 4,
  "nbformat_minor": 0,
  "metadata": {
    "colab": {
      "name": "Neural Network.ipynb",
      "provenance": [],
      "collapsed_sections": [],
      "toc_visible": true
    },
    "kernelspec": {
      "display_name": "Python 3",
      "name": "python3"
    }
  },
  "cells": [
    {
      "cell_type": "code",
      "metadata": {
        "id": "6GjkeEMxVmRf"
      },
      "source": [
        "import math\r\n",
        "import numpy as np\r\n",
        "import pandas as pd\r\n",
        "import matplotlib.pyplot as plt"
      ],
      "execution_count": 1,
      "outputs": []
    },
    {
      "cell_type": "markdown",
      "metadata": {
        "id": "BzOi-w_jXU_F"
      },
      "source": [
        "## Loading dataset"
      ]
    },
    {
      "cell_type": "code",
      "metadata": {
        "colab": {
          "base_uri": "https://localhost:8080/",
          "height": 626
        },
        "id": "eSd_vJiVVmEY",
        "outputId": "ad2400e5-a766-4633-e683-b15c71e87c76"
      },
      "source": [
        "company_sym = \"LT.csv\";\r\n",
        "\r\n",
        "dataset = pd.read_csv(company_sym)\r\n",
        "dataset"
      ],
      "execution_count": 2,
      "outputs": [
        {
          "output_type": "execute_result",
          "data": {
            "text/html": [
              "<div>\n",
              "<style scoped>\n",
              "    .dataframe tbody tr th:only-of-type {\n",
              "        vertical-align: middle;\n",
              "    }\n",
              "\n",
              "    .dataframe tbody tr th {\n",
              "        vertical-align: top;\n",
              "    }\n",
              "\n",
              "    .dataframe thead th {\n",
              "        text-align: right;\n",
              "    }\n",
              "</style>\n",
              "<table border=\"1\" class=\"dataframe\">\n",
              "  <thead>\n",
              "    <tr style=\"text-align: right;\">\n",
              "      <th></th>\n",
              "      <th>Date</th>\n",
              "      <th>Symbol</th>\n",
              "      <th>Series</th>\n",
              "      <th>Prev Close</th>\n",
              "      <th>Open</th>\n",
              "      <th>High</th>\n",
              "      <th>Low</th>\n",
              "      <th>Last</th>\n",
              "      <th>Close</th>\n",
              "      <th>VWAP</th>\n",
              "      <th>Volume</th>\n",
              "      <th>Turnover</th>\n",
              "      <th>Trades</th>\n",
              "      <th>Deliverable Volume</th>\n",
              "      <th>%Deliverble</th>\n",
              "    </tr>\n",
              "  </thead>\n",
              "  <tbody>\n",
              "    <tr>\n",
              "      <th>0</th>\n",
              "      <td>2004-06-23</td>\n",
              "      <td>LT</td>\n",
              "      <td>EQ</td>\n",
              "      <td>2.00</td>\n",
              "      <td>500.0</td>\n",
              "      <td>745.00</td>\n",
              "      <td>150.00</td>\n",
              "      <td>638.00</td>\n",
              "      <td>635.95</td>\n",
              "      <td>627.71</td>\n",
              "      <td>2699293</td>\n",
              "      <td>1.694372e+14</td>\n",
              "      <td>NaN</td>\n",
              "      <td>395612</td>\n",
              "      <td>0.1466</td>\n",
              "    </tr>\n",
              "    <tr>\n",
              "      <th>1</th>\n",
              "      <td>2004-06-24</td>\n",
              "      <td>LT</td>\n",
              "      <td>EQ</td>\n",
              "      <td>635.95</td>\n",
              "      <td>630.0</td>\n",
              "      <td>630.00</td>\n",
              "      <td>608.40</td>\n",
              "      <td>612.00</td>\n",
              "      <td>616.00</td>\n",
              "      <td>618.21</td>\n",
              "      <td>913575</td>\n",
              "      <td>5.647802e+13</td>\n",
              "      <td>NaN</td>\n",
              "      <td>305751</td>\n",
              "      <td>0.3347</td>\n",
              "    </tr>\n",
              "    <tr>\n",
              "      <th>2</th>\n",
              "      <td>2004-06-25</td>\n",
              "      <td>LT</td>\n",
              "      <td>EQ</td>\n",
              "      <td>616.00</td>\n",
              "      <td>619.0</td>\n",
              "      <td>679.00</td>\n",
              "      <td>616.10</td>\n",
              "      <td>665.00</td>\n",
              "      <td>668.30</td>\n",
              "      <td>658.45</td>\n",
              "      <td>1637383</td>\n",
              "      <td>1.078136e+14</td>\n",
              "      <td>NaN</td>\n",
              "      <td>217950</td>\n",
              "      <td>0.1331</td>\n",
              "    </tr>\n",
              "    <tr>\n",
              "      <th>3</th>\n",
              "      <td>2004-06-28</td>\n",
              "      <td>LT</td>\n",
              "      <td>EQ</td>\n",
              "      <td>668.30</td>\n",
              "      <td>660.0</td>\n",
              "      <td>671.90</td>\n",
              "      <td>640.20</td>\n",
              "      <td>653.00</td>\n",
              "      <td>656.40</td>\n",
              "      <td>657.39</td>\n",
              "      <td>913349</td>\n",
              "      <td>6.004271e+13</td>\n",
              "      <td>NaN</td>\n",
              "      <td>194984</td>\n",
              "      <td>0.2135</td>\n",
              "    </tr>\n",
              "    <tr>\n",
              "      <th>4</th>\n",
              "      <td>2004-06-29</td>\n",
              "      <td>LT</td>\n",
              "      <td>EQ</td>\n",
              "      <td>656.40</td>\n",
              "      <td>656.0</td>\n",
              "      <td>683.40</td>\n",
              "      <td>653.00</td>\n",
              "      <td>666.85</td>\n",
              "      <td>671.70</td>\n",
              "      <td>675.11</td>\n",
              "      <td>743063</td>\n",
              "      <td>5.016488e+13</td>\n",
              "      <td>NaN</td>\n",
              "      <td>101786</td>\n",
              "      <td>0.1370</td>\n",
              "    </tr>\n",
              "    <tr>\n",
              "      <th>...</th>\n",
              "      <td>...</td>\n",
              "      <td>...</td>\n",
              "      <td>...</td>\n",
              "      <td>...</td>\n",
              "      <td>...</td>\n",
              "      <td>...</td>\n",
              "      <td>...</td>\n",
              "      <td>...</td>\n",
              "      <td>...</td>\n",
              "      <td>...</td>\n",
              "      <td>...</td>\n",
              "      <td>...</td>\n",
              "      <td>...</td>\n",
              "      <td>...</td>\n",
              "      <td>...</td>\n",
              "    </tr>\n",
              "    <tr>\n",
              "      <th>4077</th>\n",
              "      <td>2020-11-23</td>\n",
              "      <td>LT</td>\n",
              "      <td>EQ</td>\n",
              "      <td>1132.30</td>\n",
              "      <td>1138.8</td>\n",
              "      <td>1147.85</td>\n",
              "      <td>1122.85</td>\n",
              "      <td>1125.10</td>\n",
              "      <td>1125.85</td>\n",
              "      <td>1132.87</td>\n",
              "      <td>4998877</td>\n",
              "      <td>5.663065e+14</td>\n",
              "      <td>117426.0</td>\n",
              "      <td>2145194</td>\n",
              "      <td>0.4291</td>\n",
              "    </tr>\n",
              "    <tr>\n",
              "      <th>4078</th>\n",
              "      <td>2020-11-24</td>\n",
              "      <td>LT</td>\n",
              "      <td>EQ</td>\n",
              "      <td>1125.85</td>\n",
              "      <td>1135.0</td>\n",
              "      <td>1144.00</td>\n",
              "      <td>1128.30</td>\n",
              "      <td>1137.00</td>\n",
              "      <td>1135.50</td>\n",
              "      <td>1135.80</td>\n",
              "      <td>4623887</td>\n",
              "      <td>5.251822e+14</td>\n",
              "      <td>127581.0</td>\n",
              "      <td>2134296</td>\n",
              "      <td>0.4616</td>\n",
              "    </tr>\n",
              "    <tr>\n",
              "      <th>4079</th>\n",
              "      <td>2020-11-25</td>\n",
              "      <td>LT</td>\n",
              "      <td>EQ</td>\n",
              "      <td>1135.50</td>\n",
              "      <td>1141.5</td>\n",
              "      <td>1147.80</td>\n",
              "      <td>1112.45</td>\n",
              "      <td>1117.20</td>\n",
              "      <td>1116.00</td>\n",
              "      <td>1124.96</td>\n",
              "      <td>4651911</td>\n",
              "      <td>5.233236e+14</td>\n",
              "      <td>122884.0</td>\n",
              "      <td>1515634</td>\n",
              "      <td>0.3258</td>\n",
              "    </tr>\n",
              "    <tr>\n",
              "      <th>4080</th>\n",
              "      <td>2020-11-26</td>\n",
              "      <td>LT</td>\n",
              "      <td>EQ</td>\n",
              "      <td>1116.00</td>\n",
              "      <td>1130.0</td>\n",
              "      <td>1134.95</td>\n",
              "      <td>1101.55</td>\n",
              "      <td>1119.20</td>\n",
              "      <td>1118.85</td>\n",
              "      <td>1116.91</td>\n",
              "      <td>7360928</td>\n",
              "      <td>8.221465e+14</td>\n",
              "      <td>153742.0</td>\n",
              "      <td>3010531</td>\n",
              "      <td>0.4090</td>\n",
              "    </tr>\n",
              "    <tr>\n",
              "      <th>4081</th>\n",
              "      <td>2020-11-27</td>\n",
              "      <td>LT</td>\n",
              "      <td>EQ</td>\n",
              "      <td>1118.85</td>\n",
              "      <td>1129.0</td>\n",
              "      <td>1139.80</td>\n",
              "      <td>1092.00</td>\n",
              "      <td>1106.00</td>\n",
              "      <td>1122.40</td>\n",
              "      <td>1124.39</td>\n",
              "      <td>18995549</td>\n",
              "      <td>2.135842e+15</td>\n",
              "      <td>196120.0</td>\n",
              "      <td>15569906</td>\n",
              "      <td>0.8197</td>\n",
              "    </tr>\n",
              "  </tbody>\n",
              "</table>\n",
              "<p>4082 rows × 15 columns</p>\n",
              "</div>"
            ],
            "text/plain": [
              "            Date Symbol Series  ...    Trades  Deliverable Volume  %Deliverble\n",
              "0     2004-06-23     LT     EQ  ...       NaN              395612       0.1466\n",
              "1     2004-06-24     LT     EQ  ...       NaN              305751       0.3347\n",
              "2     2004-06-25     LT     EQ  ...       NaN              217950       0.1331\n",
              "3     2004-06-28     LT     EQ  ...       NaN              194984       0.2135\n",
              "4     2004-06-29     LT     EQ  ...       NaN              101786       0.1370\n",
              "...          ...    ...    ...  ...       ...                 ...          ...\n",
              "4077  2020-11-23     LT     EQ  ...  117426.0             2145194       0.4291\n",
              "4078  2020-11-24     LT     EQ  ...  127581.0             2134296       0.4616\n",
              "4079  2020-11-25     LT     EQ  ...  122884.0             1515634       0.3258\n",
              "4080  2020-11-26     LT     EQ  ...  153742.0             3010531       0.4090\n",
              "4081  2020-11-27     LT     EQ  ...  196120.0            15569906       0.8197\n",
              "\n",
              "[4082 rows x 15 columns]"
            ]
          },
          "metadata": {
            "tags": []
          },
          "execution_count": 2
        }
      ]
    },
    {
      "cell_type": "code",
      "metadata": {
        "colab": {
          "base_uri": "https://localhost:8080/"
        },
        "id": "6eUcOC0wVl12",
        "outputId": "0c7b9b98-5c32-4d24-facc-b3ca50fc8cc2"
      },
      "source": [
        "dataset.isnull().sum()"
      ],
      "execution_count": 3,
      "outputs": [
        {
          "output_type": "execute_result",
          "data": {
            "text/plain": [
              "Date                     0\n",
              "Symbol                   0\n",
              "Series                   0\n",
              "Prev Close               0\n",
              "Open                     0\n",
              "High                     0\n",
              "Low                      0\n",
              "Last                     0\n",
              "Close                    0\n",
              "VWAP                     0\n",
              "Volume                   0\n",
              "Turnover                 0\n",
              "Trades                1728\n",
              "Deliverable Volume       0\n",
              "%Deliverble              0\n",
              "dtype: int64"
            ]
          },
          "metadata": {
            "tags": []
          },
          "execution_count": 3
        }
      ]
    },
    {
      "cell_type": "code",
      "metadata": {
        "colab": {
          "base_uri": "https://localhost:8080/",
          "height": 626
        },
        "id": "1hFHqefBVliW",
        "outputId": "077fdcad-4800-401f-d0d8-73d63afc05f6"
      },
      "source": [
        "dataset.dropna(inplace=True)\r\n",
        "dataset"
      ],
      "execution_count": 4,
      "outputs": [
        {
          "output_type": "execute_result",
          "data": {
            "text/html": [
              "<div>\n",
              "<style scoped>\n",
              "    .dataframe tbody tr th:only-of-type {\n",
              "        vertical-align: middle;\n",
              "    }\n",
              "\n",
              "    .dataframe tbody tr th {\n",
              "        vertical-align: top;\n",
              "    }\n",
              "\n",
              "    .dataframe thead th {\n",
              "        text-align: right;\n",
              "    }\n",
              "</style>\n",
              "<table border=\"1\" class=\"dataframe\">\n",
              "  <thead>\n",
              "    <tr style=\"text-align: right;\">\n",
              "      <th></th>\n",
              "      <th>Date</th>\n",
              "      <th>Symbol</th>\n",
              "      <th>Series</th>\n",
              "      <th>Prev Close</th>\n",
              "      <th>Open</th>\n",
              "      <th>High</th>\n",
              "      <th>Low</th>\n",
              "      <th>Last</th>\n",
              "      <th>Close</th>\n",
              "      <th>VWAP</th>\n",
              "      <th>Volume</th>\n",
              "      <th>Turnover</th>\n",
              "      <th>Trades</th>\n",
              "      <th>Deliverable Volume</th>\n",
              "      <th>%Deliverble</th>\n",
              "    </tr>\n",
              "  </thead>\n",
              "  <tbody>\n",
              "    <tr>\n",
              "      <th>1728</th>\n",
              "      <td>2011-06-01</td>\n",
              "      <td>LT</td>\n",
              "      <td>EQ</td>\n",
              "      <td>1642.35</td>\n",
              "      <td>1642.00</td>\n",
              "      <td>1689.00</td>\n",
              "      <td>1641.55</td>\n",
              "      <td>1686.40</td>\n",
              "      <td>1684.95</td>\n",
              "      <td>1672.76</td>\n",
              "      <td>1875422</td>\n",
              "      <td>3.137129e+14</td>\n",
              "      <td>110884.0</td>\n",
              "      <td>835150</td>\n",
              "      <td>0.4453</td>\n",
              "    </tr>\n",
              "    <tr>\n",
              "      <th>1729</th>\n",
              "      <td>2011-06-02</td>\n",
              "      <td>LT</td>\n",
              "      <td>EQ</td>\n",
              "      <td>1684.95</td>\n",
              "      <td>1665.20</td>\n",
              "      <td>1677.75</td>\n",
              "      <td>1654.25</td>\n",
              "      <td>1674.20</td>\n",
              "      <td>1672.10</td>\n",
              "      <td>1666.21</td>\n",
              "      <td>1433110</td>\n",
              "      <td>2.387863e+14</td>\n",
              "      <td>54940.0</td>\n",
              "      <td>770133</td>\n",
              "      <td>0.5374</td>\n",
              "    </tr>\n",
              "    <tr>\n",
              "      <th>1730</th>\n",
              "      <td>2011-06-03</td>\n",
              "      <td>LT</td>\n",
              "      <td>EQ</td>\n",
              "      <td>1672.10</td>\n",
              "      <td>1681.00</td>\n",
              "      <td>1719.70</td>\n",
              "      <td>1680.50</td>\n",
              "      <td>1714.35</td>\n",
              "      <td>1712.75</td>\n",
              "      <td>1705.57</td>\n",
              "      <td>2771995</td>\n",
              "      <td>4.727834e+14</td>\n",
              "      <td>83507.0</td>\n",
              "      <td>1672339</td>\n",
              "      <td>0.6033</td>\n",
              "    </tr>\n",
              "    <tr>\n",
              "      <th>1731</th>\n",
              "      <td>2011-06-06</td>\n",
              "      <td>LT</td>\n",
              "      <td>EQ</td>\n",
              "      <td>1712.75</td>\n",
              "      <td>1700.00</td>\n",
              "      <td>1736.05</td>\n",
              "      <td>1699.10</td>\n",
              "      <td>1726.00</td>\n",
              "      <td>1727.80</td>\n",
              "      <td>1719.47</td>\n",
              "      <td>1231355</td>\n",
              "      <td>2.117274e+14</td>\n",
              "      <td>59907.0</td>\n",
              "      <td>478964</td>\n",
              "      <td>0.3890</td>\n",
              "    </tr>\n",
              "    <tr>\n",
              "      <th>1732</th>\n",
              "      <td>2011-06-07</td>\n",
              "      <td>LT</td>\n",
              "      <td>EQ</td>\n",
              "      <td>1727.80</td>\n",
              "      <td>1721.45</td>\n",
              "      <td>1726.40</td>\n",
              "      <td>1697.50</td>\n",
              "      <td>1706.00</td>\n",
              "      <td>1705.60</td>\n",
              "      <td>1708.21</td>\n",
              "      <td>1245656</td>\n",
              "      <td>2.127836e+14</td>\n",
              "      <td>51705.0</td>\n",
              "      <td>617338</td>\n",
              "      <td>0.4956</td>\n",
              "    </tr>\n",
              "    <tr>\n",
              "      <th>...</th>\n",
              "      <td>...</td>\n",
              "      <td>...</td>\n",
              "      <td>...</td>\n",
              "      <td>...</td>\n",
              "      <td>...</td>\n",
              "      <td>...</td>\n",
              "      <td>...</td>\n",
              "      <td>...</td>\n",
              "      <td>...</td>\n",
              "      <td>...</td>\n",
              "      <td>...</td>\n",
              "      <td>...</td>\n",
              "      <td>...</td>\n",
              "      <td>...</td>\n",
              "      <td>...</td>\n",
              "    </tr>\n",
              "    <tr>\n",
              "      <th>4077</th>\n",
              "      <td>2020-11-23</td>\n",
              "      <td>LT</td>\n",
              "      <td>EQ</td>\n",
              "      <td>1132.30</td>\n",
              "      <td>1138.80</td>\n",
              "      <td>1147.85</td>\n",
              "      <td>1122.85</td>\n",
              "      <td>1125.10</td>\n",
              "      <td>1125.85</td>\n",
              "      <td>1132.87</td>\n",
              "      <td>4998877</td>\n",
              "      <td>5.663065e+14</td>\n",
              "      <td>117426.0</td>\n",
              "      <td>2145194</td>\n",
              "      <td>0.4291</td>\n",
              "    </tr>\n",
              "    <tr>\n",
              "      <th>4078</th>\n",
              "      <td>2020-11-24</td>\n",
              "      <td>LT</td>\n",
              "      <td>EQ</td>\n",
              "      <td>1125.85</td>\n",
              "      <td>1135.00</td>\n",
              "      <td>1144.00</td>\n",
              "      <td>1128.30</td>\n",
              "      <td>1137.00</td>\n",
              "      <td>1135.50</td>\n",
              "      <td>1135.80</td>\n",
              "      <td>4623887</td>\n",
              "      <td>5.251822e+14</td>\n",
              "      <td>127581.0</td>\n",
              "      <td>2134296</td>\n",
              "      <td>0.4616</td>\n",
              "    </tr>\n",
              "    <tr>\n",
              "      <th>4079</th>\n",
              "      <td>2020-11-25</td>\n",
              "      <td>LT</td>\n",
              "      <td>EQ</td>\n",
              "      <td>1135.50</td>\n",
              "      <td>1141.50</td>\n",
              "      <td>1147.80</td>\n",
              "      <td>1112.45</td>\n",
              "      <td>1117.20</td>\n",
              "      <td>1116.00</td>\n",
              "      <td>1124.96</td>\n",
              "      <td>4651911</td>\n",
              "      <td>5.233236e+14</td>\n",
              "      <td>122884.0</td>\n",
              "      <td>1515634</td>\n",
              "      <td>0.3258</td>\n",
              "    </tr>\n",
              "    <tr>\n",
              "      <th>4080</th>\n",
              "      <td>2020-11-26</td>\n",
              "      <td>LT</td>\n",
              "      <td>EQ</td>\n",
              "      <td>1116.00</td>\n",
              "      <td>1130.00</td>\n",
              "      <td>1134.95</td>\n",
              "      <td>1101.55</td>\n",
              "      <td>1119.20</td>\n",
              "      <td>1118.85</td>\n",
              "      <td>1116.91</td>\n",
              "      <td>7360928</td>\n",
              "      <td>8.221465e+14</td>\n",
              "      <td>153742.0</td>\n",
              "      <td>3010531</td>\n",
              "      <td>0.4090</td>\n",
              "    </tr>\n",
              "    <tr>\n",
              "      <th>4081</th>\n",
              "      <td>2020-11-27</td>\n",
              "      <td>LT</td>\n",
              "      <td>EQ</td>\n",
              "      <td>1118.85</td>\n",
              "      <td>1129.00</td>\n",
              "      <td>1139.80</td>\n",
              "      <td>1092.00</td>\n",
              "      <td>1106.00</td>\n",
              "      <td>1122.40</td>\n",
              "      <td>1124.39</td>\n",
              "      <td>18995549</td>\n",
              "      <td>2.135842e+15</td>\n",
              "      <td>196120.0</td>\n",
              "      <td>15569906</td>\n",
              "      <td>0.8197</td>\n",
              "    </tr>\n",
              "  </tbody>\n",
              "</table>\n",
              "<p>2354 rows × 15 columns</p>\n",
              "</div>"
            ],
            "text/plain": [
              "            Date Symbol Series  ...    Trades  Deliverable Volume  %Deliverble\n",
              "1728  2011-06-01     LT     EQ  ...  110884.0              835150       0.4453\n",
              "1729  2011-06-02     LT     EQ  ...   54940.0              770133       0.5374\n",
              "1730  2011-06-03     LT     EQ  ...   83507.0             1672339       0.6033\n",
              "1731  2011-06-06     LT     EQ  ...   59907.0              478964       0.3890\n",
              "1732  2011-06-07     LT     EQ  ...   51705.0              617338       0.4956\n",
              "...          ...    ...    ...  ...       ...                 ...          ...\n",
              "4077  2020-11-23     LT     EQ  ...  117426.0             2145194       0.4291\n",
              "4078  2020-11-24     LT     EQ  ...  127581.0             2134296       0.4616\n",
              "4079  2020-11-25     LT     EQ  ...  122884.0             1515634       0.3258\n",
              "4080  2020-11-26     LT     EQ  ...  153742.0             3010531       0.4090\n",
              "4081  2020-11-27     LT     EQ  ...  196120.0            15569906       0.8197\n",
              "\n",
              "[2354 rows x 15 columns]"
            ]
          },
          "metadata": {
            "tags": []
          },
          "execution_count": 4
        }
      ]
    },
    {
      "cell_type": "code",
      "metadata": {
        "colab": {
          "base_uri": "https://localhost:8080/"
        },
        "id": "bIibKcFyVxYm",
        "outputId": "b0fd7ecf-611c-48ec-ceb3-8607025c8cf9"
      },
      "source": [
        "dataset.columns"
      ],
      "execution_count": 5,
      "outputs": [
        {
          "output_type": "execute_result",
          "data": {
            "text/plain": [
              "Index(['Date', 'Symbol', 'Series', 'Prev Close', 'Open', 'High', 'Low', 'Last',\n",
              "       'Close', 'VWAP', 'Volume', 'Turnover', 'Trades', 'Deliverable Volume',\n",
              "       '%Deliverble'],\n",
              "      dtype='object')"
            ]
          },
          "metadata": {
            "tags": []
          },
          "execution_count": 5
        }
      ]
    },
    {
      "cell_type": "code",
      "metadata": {
        "colab": {
          "base_uri": "https://localhost:8080/",
          "height": 456
        },
        "id": "8XDLYlmDVxU3",
        "outputId": "55d1f298-57e5-4028-e75e-a9d85a0ecc86"
      },
      "source": [
        "to_drop = ['Date', 'Symbol', 'Series']\r\n",
        "dataset = dataset.drop(columns = to_drop)\r\n",
        "dataset"
      ],
      "execution_count": 6,
      "outputs": [
        {
          "output_type": "execute_result",
          "data": {
            "text/html": [
              "<div>\n",
              "<style scoped>\n",
              "    .dataframe tbody tr th:only-of-type {\n",
              "        vertical-align: middle;\n",
              "    }\n",
              "\n",
              "    .dataframe tbody tr th {\n",
              "        vertical-align: top;\n",
              "    }\n",
              "\n",
              "    .dataframe thead th {\n",
              "        text-align: right;\n",
              "    }\n",
              "</style>\n",
              "<table border=\"1\" class=\"dataframe\">\n",
              "  <thead>\n",
              "    <tr style=\"text-align: right;\">\n",
              "      <th></th>\n",
              "      <th>Prev Close</th>\n",
              "      <th>Open</th>\n",
              "      <th>High</th>\n",
              "      <th>Low</th>\n",
              "      <th>Last</th>\n",
              "      <th>Close</th>\n",
              "      <th>VWAP</th>\n",
              "      <th>Volume</th>\n",
              "      <th>Turnover</th>\n",
              "      <th>Trades</th>\n",
              "      <th>Deliverable Volume</th>\n",
              "      <th>%Deliverble</th>\n",
              "    </tr>\n",
              "  </thead>\n",
              "  <tbody>\n",
              "    <tr>\n",
              "      <th>1728</th>\n",
              "      <td>1642.35</td>\n",
              "      <td>1642.00</td>\n",
              "      <td>1689.00</td>\n",
              "      <td>1641.55</td>\n",
              "      <td>1686.40</td>\n",
              "      <td>1684.95</td>\n",
              "      <td>1672.76</td>\n",
              "      <td>1875422</td>\n",
              "      <td>3.137129e+14</td>\n",
              "      <td>110884.0</td>\n",
              "      <td>835150</td>\n",
              "      <td>0.4453</td>\n",
              "    </tr>\n",
              "    <tr>\n",
              "      <th>1729</th>\n",
              "      <td>1684.95</td>\n",
              "      <td>1665.20</td>\n",
              "      <td>1677.75</td>\n",
              "      <td>1654.25</td>\n",
              "      <td>1674.20</td>\n",
              "      <td>1672.10</td>\n",
              "      <td>1666.21</td>\n",
              "      <td>1433110</td>\n",
              "      <td>2.387863e+14</td>\n",
              "      <td>54940.0</td>\n",
              "      <td>770133</td>\n",
              "      <td>0.5374</td>\n",
              "    </tr>\n",
              "    <tr>\n",
              "      <th>1730</th>\n",
              "      <td>1672.10</td>\n",
              "      <td>1681.00</td>\n",
              "      <td>1719.70</td>\n",
              "      <td>1680.50</td>\n",
              "      <td>1714.35</td>\n",
              "      <td>1712.75</td>\n",
              "      <td>1705.57</td>\n",
              "      <td>2771995</td>\n",
              "      <td>4.727834e+14</td>\n",
              "      <td>83507.0</td>\n",
              "      <td>1672339</td>\n",
              "      <td>0.6033</td>\n",
              "    </tr>\n",
              "    <tr>\n",
              "      <th>1731</th>\n",
              "      <td>1712.75</td>\n",
              "      <td>1700.00</td>\n",
              "      <td>1736.05</td>\n",
              "      <td>1699.10</td>\n",
              "      <td>1726.00</td>\n",
              "      <td>1727.80</td>\n",
              "      <td>1719.47</td>\n",
              "      <td>1231355</td>\n",
              "      <td>2.117274e+14</td>\n",
              "      <td>59907.0</td>\n",
              "      <td>478964</td>\n",
              "      <td>0.3890</td>\n",
              "    </tr>\n",
              "    <tr>\n",
              "      <th>1732</th>\n",
              "      <td>1727.80</td>\n",
              "      <td>1721.45</td>\n",
              "      <td>1726.40</td>\n",
              "      <td>1697.50</td>\n",
              "      <td>1706.00</td>\n",
              "      <td>1705.60</td>\n",
              "      <td>1708.21</td>\n",
              "      <td>1245656</td>\n",
              "      <td>2.127836e+14</td>\n",
              "      <td>51705.0</td>\n",
              "      <td>617338</td>\n",
              "      <td>0.4956</td>\n",
              "    </tr>\n",
              "    <tr>\n",
              "      <th>...</th>\n",
              "      <td>...</td>\n",
              "      <td>...</td>\n",
              "      <td>...</td>\n",
              "      <td>...</td>\n",
              "      <td>...</td>\n",
              "      <td>...</td>\n",
              "      <td>...</td>\n",
              "      <td>...</td>\n",
              "      <td>...</td>\n",
              "      <td>...</td>\n",
              "      <td>...</td>\n",
              "      <td>...</td>\n",
              "    </tr>\n",
              "    <tr>\n",
              "      <th>4077</th>\n",
              "      <td>1132.30</td>\n",
              "      <td>1138.80</td>\n",
              "      <td>1147.85</td>\n",
              "      <td>1122.85</td>\n",
              "      <td>1125.10</td>\n",
              "      <td>1125.85</td>\n",
              "      <td>1132.87</td>\n",
              "      <td>4998877</td>\n",
              "      <td>5.663065e+14</td>\n",
              "      <td>117426.0</td>\n",
              "      <td>2145194</td>\n",
              "      <td>0.4291</td>\n",
              "    </tr>\n",
              "    <tr>\n",
              "      <th>4078</th>\n",
              "      <td>1125.85</td>\n",
              "      <td>1135.00</td>\n",
              "      <td>1144.00</td>\n",
              "      <td>1128.30</td>\n",
              "      <td>1137.00</td>\n",
              "      <td>1135.50</td>\n",
              "      <td>1135.80</td>\n",
              "      <td>4623887</td>\n",
              "      <td>5.251822e+14</td>\n",
              "      <td>127581.0</td>\n",
              "      <td>2134296</td>\n",
              "      <td>0.4616</td>\n",
              "    </tr>\n",
              "    <tr>\n",
              "      <th>4079</th>\n",
              "      <td>1135.50</td>\n",
              "      <td>1141.50</td>\n",
              "      <td>1147.80</td>\n",
              "      <td>1112.45</td>\n",
              "      <td>1117.20</td>\n",
              "      <td>1116.00</td>\n",
              "      <td>1124.96</td>\n",
              "      <td>4651911</td>\n",
              "      <td>5.233236e+14</td>\n",
              "      <td>122884.0</td>\n",
              "      <td>1515634</td>\n",
              "      <td>0.3258</td>\n",
              "    </tr>\n",
              "    <tr>\n",
              "      <th>4080</th>\n",
              "      <td>1116.00</td>\n",
              "      <td>1130.00</td>\n",
              "      <td>1134.95</td>\n",
              "      <td>1101.55</td>\n",
              "      <td>1119.20</td>\n",
              "      <td>1118.85</td>\n",
              "      <td>1116.91</td>\n",
              "      <td>7360928</td>\n",
              "      <td>8.221465e+14</td>\n",
              "      <td>153742.0</td>\n",
              "      <td>3010531</td>\n",
              "      <td>0.4090</td>\n",
              "    </tr>\n",
              "    <tr>\n",
              "      <th>4081</th>\n",
              "      <td>1118.85</td>\n",
              "      <td>1129.00</td>\n",
              "      <td>1139.80</td>\n",
              "      <td>1092.00</td>\n",
              "      <td>1106.00</td>\n",
              "      <td>1122.40</td>\n",
              "      <td>1124.39</td>\n",
              "      <td>18995549</td>\n",
              "      <td>2.135842e+15</td>\n",
              "      <td>196120.0</td>\n",
              "      <td>15569906</td>\n",
              "      <td>0.8197</td>\n",
              "    </tr>\n",
              "  </tbody>\n",
              "</table>\n",
              "<p>2354 rows × 12 columns</p>\n",
              "</div>"
            ],
            "text/plain": [
              "      Prev Close     Open     High  ...    Trades  Deliverable Volume  %Deliverble\n",
              "1728     1642.35  1642.00  1689.00  ...  110884.0              835150       0.4453\n",
              "1729     1684.95  1665.20  1677.75  ...   54940.0              770133       0.5374\n",
              "1730     1672.10  1681.00  1719.70  ...   83507.0             1672339       0.6033\n",
              "1731     1712.75  1700.00  1736.05  ...   59907.0              478964       0.3890\n",
              "1732     1727.80  1721.45  1726.40  ...   51705.0              617338       0.4956\n",
              "...          ...      ...      ...  ...       ...                 ...          ...\n",
              "4077     1132.30  1138.80  1147.85  ...  117426.0             2145194       0.4291\n",
              "4078     1125.85  1135.00  1144.00  ...  127581.0             2134296       0.4616\n",
              "4079     1135.50  1141.50  1147.80  ...  122884.0             1515634       0.3258\n",
              "4080     1116.00  1130.00  1134.95  ...  153742.0             3010531       0.4090\n",
              "4081     1118.85  1129.00  1139.80  ...  196120.0            15569906       0.8197\n",
              "\n",
              "[2354 rows x 12 columns]"
            ]
          },
          "metadata": {
            "tags": []
          },
          "execution_count": 6
        }
      ]
    },
    {
      "cell_type": "markdown",
      "metadata": {
        "id": "Tl44zKihV3Xt"
      },
      "source": [
        "## input features and target values"
      ]
    },
    {
      "cell_type": "code",
      "metadata": {
        "colab": {
          "base_uri": "https://localhost:8080/"
        },
        "id": "M-XN43btVxRW",
        "outputId": "8d395d48-69b8-4c0d-87db-5a77dbd352eb"
      },
      "source": [
        "dataset.columns"
      ],
      "execution_count": 7,
      "outputs": [
        {
          "output_type": "execute_result",
          "data": {
            "text/plain": [
              "Index(['Prev Close', 'Open', 'High', 'Low', 'Last', 'Close', 'VWAP', 'Volume',\n",
              "       'Turnover', 'Trades', 'Deliverable Volume', '%Deliverble'],\n",
              "      dtype='object')"
            ]
          },
          "metadata": {
            "tags": []
          },
          "execution_count": 7
        }
      ]
    },
    {
      "cell_type": "code",
      "metadata": {
        "colab": {
          "base_uri": "https://localhost:8080/",
          "height": 419
        },
        "id": "Vvymw3RNVxN-",
        "outputId": "009d742e-2d59-4643-8fde-6d01b02cd443"
      },
      "source": [
        "tar_col = ['VWAP']\r\n",
        "Y = dataset[tar_col]\r\n",
        "Y"
      ],
      "execution_count": 8,
      "outputs": [
        {
          "output_type": "execute_result",
          "data": {
            "text/html": [
              "<div>\n",
              "<style scoped>\n",
              "    .dataframe tbody tr th:only-of-type {\n",
              "        vertical-align: middle;\n",
              "    }\n",
              "\n",
              "    .dataframe tbody tr th {\n",
              "        vertical-align: top;\n",
              "    }\n",
              "\n",
              "    .dataframe thead th {\n",
              "        text-align: right;\n",
              "    }\n",
              "</style>\n",
              "<table border=\"1\" class=\"dataframe\">\n",
              "  <thead>\n",
              "    <tr style=\"text-align: right;\">\n",
              "      <th></th>\n",
              "      <th>VWAP</th>\n",
              "    </tr>\n",
              "  </thead>\n",
              "  <tbody>\n",
              "    <tr>\n",
              "      <th>1728</th>\n",
              "      <td>1672.76</td>\n",
              "    </tr>\n",
              "    <tr>\n",
              "      <th>1729</th>\n",
              "      <td>1666.21</td>\n",
              "    </tr>\n",
              "    <tr>\n",
              "      <th>1730</th>\n",
              "      <td>1705.57</td>\n",
              "    </tr>\n",
              "    <tr>\n",
              "      <th>1731</th>\n",
              "      <td>1719.47</td>\n",
              "    </tr>\n",
              "    <tr>\n",
              "      <th>1732</th>\n",
              "      <td>1708.21</td>\n",
              "    </tr>\n",
              "    <tr>\n",
              "      <th>...</th>\n",
              "      <td>...</td>\n",
              "    </tr>\n",
              "    <tr>\n",
              "      <th>4077</th>\n",
              "      <td>1132.87</td>\n",
              "    </tr>\n",
              "    <tr>\n",
              "      <th>4078</th>\n",
              "      <td>1135.80</td>\n",
              "    </tr>\n",
              "    <tr>\n",
              "      <th>4079</th>\n",
              "      <td>1124.96</td>\n",
              "    </tr>\n",
              "    <tr>\n",
              "      <th>4080</th>\n",
              "      <td>1116.91</td>\n",
              "    </tr>\n",
              "    <tr>\n",
              "      <th>4081</th>\n",
              "      <td>1124.39</td>\n",
              "    </tr>\n",
              "  </tbody>\n",
              "</table>\n",
              "<p>2354 rows × 1 columns</p>\n",
              "</div>"
            ],
            "text/plain": [
              "         VWAP\n",
              "1728  1672.76\n",
              "1729  1666.21\n",
              "1730  1705.57\n",
              "1731  1719.47\n",
              "1732  1708.21\n",
              "...       ...\n",
              "4077  1132.87\n",
              "4078  1135.80\n",
              "4079  1124.96\n",
              "4080  1116.91\n",
              "4081  1124.39\n",
              "\n",
              "[2354 rows x 1 columns]"
            ]
          },
          "metadata": {
            "tags": []
          },
          "execution_count": 8
        }
      ]
    },
    {
      "cell_type": "code",
      "metadata": {
        "colab": {
          "base_uri": "https://localhost:8080/",
          "height": 436
        },
        "id": "fRtDsDDwVxKg",
        "outputId": "2e2fe650-ef7d-47f7-9ff0-c04705cc688f"
      },
      "source": [
        "X = dataset.drop(columns = tar_col)\r\n",
        "X"
      ],
      "execution_count": 9,
      "outputs": [
        {
          "output_type": "execute_result",
          "data": {
            "text/html": [
              "<div>\n",
              "<style scoped>\n",
              "    .dataframe tbody tr th:only-of-type {\n",
              "        vertical-align: middle;\n",
              "    }\n",
              "\n",
              "    .dataframe tbody tr th {\n",
              "        vertical-align: top;\n",
              "    }\n",
              "\n",
              "    .dataframe thead th {\n",
              "        text-align: right;\n",
              "    }\n",
              "</style>\n",
              "<table border=\"1\" class=\"dataframe\">\n",
              "  <thead>\n",
              "    <tr style=\"text-align: right;\">\n",
              "      <th></th>\n",
              "      <th>Prev Close</th>\n",
              "      <th>Open</th>\n",
              "      <th>High</th>\n",
              "      <th>Low</th>\n",
              "      <th>Last</th>\n",
              "      <th>Close</th>\n",
              "      <th>Volume</th>\n",
              "      <th>Turnover</th>\n",
              "      <th>Trades</th>\n",
              "      <th>Deliverable Volume</th>\n",
              "      <th>%Deliverble</th>\n",
              "    </tr>\n",
              "  </thead>\n",
              "  <tbody>\n",
              "    <tr>\n",
              "      <th>1728</th>\n",
              "      <td>1642.35</td>\n",
              "      <td>1642.00</td>\n",
              "      <td>1689.00</td>\n",
              "      <td>1641.55</td>\n",
              "      <td>1686.40</td>\n",
              "      <td>1684.95</td>\n",
              "      <td>1875422</td>\n",
              "      <td>3.137129e+14</td>\n",
              "      <td>110884.0</td>\n",
              "      <td>835150</td>\n",
              "      <td>0.4453</td>\n",
              "    </tr>\n",
              "    <tr>\n",
              "      <th>1729</th>\n",
              "      <td>1684.95</td>\n",
              "      <td>1665.20</td>\n",
              "      <td>1677.75</td>\n",
              "      <td>1654.25</td>\n",
              "      <td>1674.20</td>\n",
              "      <td>1672.10</td>\n",
              "      <td>1433110</td>\n",
              "      <td>2.387863e+14</td>\n",
              "      <td>54940.0</td>\n",
              "      <td>770133</td>\n",
              "      <td>0.5374</td>\n",
              "    </tr>\n",
              "    <tr>\n",
              "      <th>1730</th>\n",
              "      <td>1672.10</td>\n",
              "      <td>1681.00</td>\n",
              "      <td>1719.70</td>\n",
              "      <td>1680.50</td>\n",
              "      <td>1714.35</td>\n",
              "      <td>1712.75</td>\n",
              "      <td>2771995</td>\n",
              "      <td>4.727834e+14</td>\n",
              "      <td>83507.0</td>\n",
              "      <td>1672339</td>\n",
              "      <td>0.6033</td>\n",
              "    </tr>\n",
              "    <tr>\n",
              "      <th>1731</th>\n",
              "      <td>1712.75</td>\n",
              "      <td>1700.00</td>\n",
              "      <td>1736.05</td>\n",
              "      <td>1699.10</td>\n",
              "      <td>1726.00</td>\n",
              "      <td>1727.80</td>\n",
              "      <td>1231355</td>\n",
              "      <td>2.117274e+14</td>\n",
              "      <td>59907.0</td>\n",
              "      <td>478964</td>\n",
              "      <td>0.3890</td>\n",
              "    </tr>\n",
              "    <tr>\n",
              "      <th>1732</th>\n",
              "      <td>1727.80</td>\n",
              "      <td>1721.45</td>\n",
              "      <td>1726.40</td>\n",
              "      <td>1697.50</td>\n",
              "      <td>1706.00</td>\n",
              "      <td>1705.60</td>\n",
              "      <td>1245656</td>\n",
              "      <td>2.127836e+14</td>\n",
              "      <td>51705.0</td>\n",
              "      <td>617338</td>\n",
              "      <td>0.4956</td>\n",
              "    </tr>\n",
              "    <tr>\n",
              "      <th>...</th>\n",
              "      <td>...</td>\n",
              "      <td>...</td>\n",
              "      <td>...</td>\n",
              "      <td>...</td>\n",
              "      <td>...</td>\n",
              "      <td>...</td>\n",
              "      <td>...</td>\n",
              "      <td>...</td>\n",
              "      <td>...</td>\n",
              "      <td>...</td>\n",
              "      <td>...</td>\n",
              "    </tr>\n",
              "    <tr>\n",
              "      <th>4077</th>\n",
              "      <td>1132.30</td>\n",
              "      <td>1138.80</td>\n",
              "      <td>1147.85</td>\n",
              "      <td>1122.85</td>\n",
              "      <td>1125.10</td>\n",
              "      <td>1125.85</td>\n",
              "      <td>4998877</td>\n",
              "      <td>5.663065e+14</td>\n",
              "      <td>117426.0</td>\n",
              "      <td>2145194</td>\n",
              "      <td>0.4291</td>\n",
              "    </tr>\n",
              "    <tr>\n",
              "      <th>4078</th>\n",
              "      <td>1125.85</td>\n",
              "      <td>1135.00</td>\n",
              "      <td>1144.00</td>\n",
              "      <td>1128.30</td>\n",
              "      <td>1137.00</td>\n",
              "      <td>1135.50</td>\n",
              "      <td>4623887</td>\n",
              "      <td>5.251822e+14</td>\n",
              "      <td>127581.0</td>\n",
              "      <td>2134296</td>\n",
              "      <td>0.4616</td>\n",
              "    </tr>\n",
              "    <tr>\n",
              "      <th>4079</th>\n",
              "      <td>1135.50</td>\n",
              "      <td>1141.50</td>\n",
              "      <td>1147.80</td>\n",
              "      <td>1112.45</td>\n",
              "      <td>1117.20</td>\n",
              "      <td>1116.00</td>\n",
              "      <td>4651911</td>\n",
              "      <td>5.233236e+14</td>\n",
              "      <td>122884.0</td>\n",
              "      <td>1515634</td>\n",
              "      <td>0.3258</td>\n",
              "    </tr>\n",
              "    <tr>\n",
              "      <th>4080</th>\n",
              "      <td>1116.00</td>\n",
              "      <td>1130.00</td>\n",
              "      <td>1134.95</td>\n",
              "      <td>1101.55</td>\n",
              "      <td>1119.20</td>\n",
              "      <td>1118.85</td>\n",
              "      <td>7360928</td>\n",
              "      <td>8.221465e+14</td>\n",
              "      <td>153742.0</td>\n",
              "      <td>3010531</td>\n",
              "      <td>0.4090</td>\n",
              "    </tr>\n",
              "    <tr>\n",
              "      <th>4081</th>\n",
              "      <td>1118.85</td>\n",
              "      <td>1129.00</td>\n",
              "      <td>1139.80</td>\n",
              "      <td>1092.00</td>\n",
              "      <td>1106.00</td>\n",
              "      <td>1122.40</td>\n",
              "      <td>18995549</td>\n",
              "      <td>2.135842e+15</td>\n",
              "      <td>196120.0</td>\n",
              "      <td>15569906</td>\n",
              "      <td>0.8197</td>\n",
              "    </tr>\n",
              "  </tbody>\n",
              "</table>\n",
              "<p>2354 rows × 11 columns</p>\n",
              "</div>"
            ],
            "text/plain": [
              "      Prev Close     Open     High  ...    Trades  Deliverable Volume  %Deliverble\n",
              "1728     1642.35  1642.00  1689.00  ...  110884.0              835150       0.4453\n",
              "1729     1684.95  1665.20  1677.75  ...   54940.0              770133       0.5374\n",
              "1730     1672.10  1681.00  1719.70  ...   83507.0             1672339       0.6033\n",
              "1731     1712.75  1700.00  1736.05  ...   59907.0              478964       0.3890\n",
              "1732     1727.80  1721.45  1726.40  ...   51705.0              617338       0.4956\n",
              "...          ...      ...      ...  ...       ...                 ...          ...\n",
              "4077     1132.30  1138.80  1147.85  ...  117426.0             2145194       0.4291\n",
              "4078     1125.85  1135.00  1144.00  ...  127581.0             2134296       0.4616\n",
              "4079     1135.50  1141.50  1147.80  ...  122884.0             1515634       0.3258\n",
              "4080     1116.00  1130.00  1134.95  ...  153742.0             3010531       0.4090\n",
              "4081     1118.85  1129.00  1139.80  ...  196120.0            15569906       0.8197\n",
              "\n",
              "[2354 rows x 11 columns]"
            ]
          },
          "metadata": {
            "tags": []
          },
          "execution_count": 9
        }
      ]
    },
    {
      "cell_type": "code",
      "metadata": {
        "colab": {
          "base_uri": "https://localhost:8080/",
          "height": 1000
        },
        "id": "jT_yLrtiVxHH",
        "outputId": "e3e64d0a-9be8-4479-83dc-115d7e19b04c"
      },
      "source": [
        "for feature_name in X:\r\n",
        "    plt.figure(figsize=(7,5))\r\n",
        "    plt.tight_layout()\r\n",
        "    plt.scatter(X[feature_name], Y)\r\n",
        "    plt.ylabel(tar_col[0],size = 25)\r\n",
        "    plt.xlabel(feature_name, size = 25)\r\n",
        "    plt.show()"
      ],
      "execution_count": 10,
      "outputs": [
        {
          "output_type": "display_data",
          "data": {
            "image/png": "[encoded data removed]",
            "text/plain": [
              "<Figure size 504x360 with 1 Axes>"
            ]
          },
          "metadata": {
            "tags": [],
            "needs_background": "light"
          }
        },
        {
          "output_type": "display_data",
          "data": {
            "image/png": "[encoded data removed]",
            "text/plain": [
              "<Figure size 504x360 with 1 Axes>"
            ]
          },
          "metadata": {
            "tags": [],
            "needs_background": "light"
          }
        },
        {
          "output_type": "display_data",
          "data": {
            "image/png": "[encoded data removed]",
            "text/plain": [
              "<Figure size 504x360 with 1 Axes>"
            ]
          },
          "metadata": {
            "tags": [],
            "needs_background": "light"
          }
        },
        {
          "output_type": "display_data",
          "data": {
            "image/png": "[encoded data removed]",
            "text/plain": [
              "<Figure size 504x360 with 1 Axes>"
            ]
          },
          "metadata": {
            "tags": [],
            "needs_background": "light"
          }
        },
        {
          "output_type": "display_data",
          "data": {
            "image/png": "[encoded data removed]",
            "text/plain": [
              "<Figure size 504x360 with 1 Axes>"
            ]
          },
          "metadata": {
            "tags": [],
            "needs_background": "light"
          }
        },
        {
          "output_type": "display_data",
          "data": {
            "image/png": "[encoded data removed]",
            "text/plain": [
              "<Figure size 504x360 with 1 Axes>"
            ]
          },
          "metadata": {
            "tags": [],
            "needs_background": "light"
          }
        },
        {
          "output_type": "display_data",
          "data": {
            "image/png": "[encoded data removed]",
            "text/plain": [
              "<Figure size 504x360 with 1 Axes>"
            ]
          },
          "metadata": {
            "tags": [],
            "needs_background": "light"
          }
        },
        {
          "output_type": "display_data",
          "data": {
            "image/png": "[encoded data removed]",
            "text/plain": [
              "<Figure size 504x360 with 1 Axes>"
            ]
          },
          "metadata": {
            "tags": [],
            "needs_background": "light"
          }
        },
        {
          "output_type": "display_data",
          "data": {
            "image/png": "[encoded data removed]",
            "text/plain": [
              "<Figure size 504x360 with 1 Axes>"
            ]
          },
          "metadata": {
            "tags": [],
            "needs_background": "light"
          }
        },
        {
          "output_type": "display_data",
          "data": {
            "image/png": "[encoded data removed]",
            "text/plain": [
              "<Figure size 504x360 with 1 Axes>"
            ]
          },
          "metadata": {
            "tags": [],
            "needs_background": "light"
          }
        },
        {
          "output_type": "display_data",
          "data": {
            "image/png": "[encoded data removed]",
            "text/plain": [
              "<Figure size 504x360 with 1 Axes>"
            ]
          },
          "metadata": {
            "tags": [],
            "needs_background": "light"
          }
        }
      ]
    },
    {
      "cell_type": "code",
      "metadata": {
        "colab": {
          "base_uri": "https://localhost:8080/"
        },
        "id": "EDPZvrfAVxDb",
        "outputId": "5cfb2249-51c5-4613-ff8a-1fb4e195da0e"
      },
      "source": [
        "X = np.array(X)\r\n",
        "#X\r\n",
        "X.shape"
      ],
      "execution_count": 11,
      "outputs": [
        {
          "output_type": "execute_result",
          "data": {
            "text/plain": [
              "(2354, 11)"
            ]
          },
          "metadata": {
            "tags": []
          },
          "execution_count": 11
        }
      ]
    },
    {
      "cell_type": "code",
      "metadata": {
        "colab": {
          "base_uri": "https://localhost:8080/"
        },
        "id": "zw91-hY9WInP",
        "outputId": "ab884bb0-6998-4d60-f845-527dbce05b8b"
      },
      "source": [
        "Y = np.array(Y)\r\n",
        "#Y\r\n",
        "Y.shape"
      ],
      "execution_count": 12,
      "outputs": [
        {
          "output_type": "execute_result",
          "data": {
            "text/plain": [
              "(2354, 1)"
            ]
          },
          "metadata": {
            "tags": []
          },
          "execution_count": 12
        }
      ]
    },
    {
      "cell_type": "code",
      "metadata": {
        "id": "A11_Hl95WIYx"
      },
      "source": [
        "from sklearn.model_selection import train_test_split\r\n",
        "\r\n",
        "X_train, X_val, y_train, y_val = train_test_split(X, Y, test_size=0.15, random_state=1)"
      ],
      "execution_count": 13,
      "outputs": []
    },
    {
      "cell_type": "code",
      "metadata": {
        "id": "SfYqSouCMoYp"
      },
      "source": [
        "from sklearn.preprocessing import StandardScaler\r\n",
        "\r\n",
        "sc = StandardScaler()\r\n",
        "X_train = sc.fit_transform(X_train)\r\n",
        "X_val = sc.fit_transform(X_val)"
      ],
      "execution_count": 14,
      "outputs": []
    },
    {
      "cell_type": "markdown",
      "metadata": {
        "id": "_6Ok3BohnI4X"
      },
      "source": [
        "# NN tensorflow model"
      ]
    },
    {
      "cell_type": "code",
      "metadata": {
        "id": "5bmXVyOoVSkz"
      },
      "source": [
        "import tensorflow as tf\r\n",
        "from tensorflow import keras\r\n",
        "from sklearn.metrics import mean_absolute_error\r\n",
        "from sklearn.metrics import mean_squared_error"
      ],
      "execution_count": 15,
      "outputs": []
    },
    {
      "cell_type": "code",
      "metadata": {
        "colab": {
          "base_uri": "https://localhost:8080/"
        },
        "id": "gs4_JWsERJi5",
        "outputId": "5ea41a88-f5ab-4b49-c4a5-e222fefd62af"
      },
      "source": [
        "input_dimensions = X_train.shape[1]\r\n",
        "input_dimensions"
      ],
      "execution_count": 16,
      "outputs": [
        {
          "output_type": "execute_result",
          "data": {
            "text/plain": [
              "11"
            ]
          },
          "metadata": {
            "tags": []
          },
          "execution_count": 16
        }
      ]
    },
    {
      "cell_type": "markdown",
      "metadata": {
        "id": "6FmCtBIlYSxo"
      },
      "source": [
        "### Neutral Network Model\r\n",
        "**1024 neurons in 1st layer**\r\n",
        "\r\n",
        "**512 neurons in 2nd layer**\r\n",
        "\r\n",
        "**1 neurons as output**\r\n"
      ]
    },
    {
      "cell_type": "code",
      "metadata": {
        "colab": {
          "base_uri": "https://localhost:8080/"
        },
        "id": "HVFv2QvnhWn5",
        "outputId": "d3287f01-186a-4859-afef-55313282273b"
      },
      "source": [
        "model = keras.Sequential([\r\n",
        "        keras.layers.Dense(input_dimensions, input_dim=input_dimensions, kernel_initializer='normal', activation='relu'),\r\n",
        "        keras.layers.Dense(1024, activation='relu'),\r\n",
        "        keras.layers.Dense(512, activation='relu'),\r\n",
        "        keras.layers.Dense(1, activation='linear')\r\n",
        "])\r\n",
        "\r\n",
        "model.summary()"
      ],
      "execution_count": 17,
      "outputs": [
        {
          "output_type": "stream",
          "text": [
            "Model: \"sequential\"\n",
            "_________________________________________________________________\n",
            "Layer (type)                 Output Shape              Param #   \n",
            "=================================================================\n",
            "dense (Dense)                (None, 11)                132       \n",
            "_________________________________________________________________\n",
            "dense_1 (Dense)              (None, 1024)              12288     \n",
            "_________________________________________________________________\n",
            "dense_2 (Dense)              (None, 512)               524800    \n",
            "_________________________________________________________________\n",
            "dense_3 (Dense)              (None, 1)                 513       \n",
            "=================================================================\n",
            "Total params: 537,733\n",
            "Trainable params: 537,733\n",
            "Non-trainable params: 0\n",
            "_________________________________________________________________\n"
          ],
          "name": "stdout"
        }
      ]
    },
    {
      "cell_type": "code",
      "metadata": {
        "colab": {
          "base_uri": "https://localhost:8080/"
        },
        "id": "5vtOw1TzhLrD",
        "outputId": "69fc2aba-1032-48a2-bcff-2c843672888d"
      },
      "source": [
        "model.compile(loss='mse', optimizer='adam', metrics=['mse','mae'])\r\n",
        "history=model.fit(X_train, y_train, epochs=75, batch_size=32, verbose=1, validation_split=0.2)\r\n",
        "predictions = model.predict(X_val)"
      ],
      "execution_count": 18,
      "outputs": [
        {
          "output_type": "stream",
          "text": [
            "Epoch 1/75\n",
            "50/50 [==============================] - 2s 21ms/step - loss: 1872924.7990 - mse: 1872924.7990 - mae: 1346.2201 - val_loss: 1021492.3125 - val_mse: 1021492.3125 - val_mae: 955.4240\n",
            "Epoch 2/75\n",
            "50/50 [==============================] - 1s 14ms/step - loss: 627623.8891 - mse: 627623.8891 - mae: 711.9911 - val_loss: 168192.7344 - val_mse: 168192.7344 - val_mae: 351.2603\n",
            "Epoch 3/75\n",
            "50/50 [==============================] - 1s 13ms/step - loss: 141264.9387 - mse: 141264.9387 - mae: 318.0004 - val_loss: 71001.3984 - val_mse: 71001.3984 - val_mae: 212.6453\n",
            "Epoch 4/75\n",
            "50/50 [==============================] - 1s 15ms/step - loss: 66207.0125 - mse: 66207.0125 - mae: 205.1695 - val_loss: 40080.3516 - val_mse: 40080.3516 - val_mae: 152.5402\n",
            "Epoch 5/75\n",
            "50/50 [==============================] - 1s 13ms/step - loss: 32408.5437 - mse: 32408.5437 - mae: 139.5112 - val_loss: 24084.3984 - val_mse: 24084.3984 - val_mae: 116.4551\n",
            "Epoch 6/75\n",
            "50/50 [==============================] - 1s 15ms/step - loss: 20142.0825 - mse: 20142.0825 - mae: 107.9451 - val_loss: 14803.9365 - val_mse: 14803.9365 - val_mae: 86.4566\n",
            "Epoch 7/75\n",
            "50/50 [==============================] - 1s 16ms/step - loss: 11137.9612 - mse: 11137.9612 - mae: 80.7566 - val_loss: 9498.4111 - val_mse: 9498.4111 - val_mae: 68.1405\n",
            "Epoch 8/75\n",
            "50/50 [==============================] - 1s 14ms/step - loss: 7338.6717 - mse: 7338.6717 - mae: 62.8554 - val_loss: 6150.2954 - val_mse: 6150.2954 - val_mae: 53.5208\n",
            "Epoch 9/75\n",
            "50/50 [==============================] - 1s 13ms/step - loss: 5060.0157 - mse: 5060.0157 - mae: 48.8723 - val_loss: 4181.9111 - val_mse: 4181.9111 - val_mae: 43.0939\n",
            "Epoch 10/75\n",
            "50/50 [==============================] - 1s 13ms/step - loss: 2862.9588 - mse: 2862.9588 - mae: 36.7927 - val_loss: 3035.4404 - val_mse: 3035.4404 - val_mae: 37.2775\n",
            "Epoch 11/75\n",
            "50/50 [==============================] - 1s 13ms/step - loss: 2249.0101 - mse: 2249.0101 - mae: 32.0173 - val_loss: 2236.4944 - val_mse: 2236.4944 - val_mae: 30.9279\n",
            "Epoch 12/75\n",
            "50/50 [==============================] - 1s 13ms/step - loss: 1522.6081 - mse: 1522.6081 - mae: 25.4300 - val_loss: 1716.6466 - val_mse: 1716.6466 - val_mae: 25.8601\n",
            "Epoch 13/75\n",
            "50/50 [==============================] - 1s 14ms/step - loss: 1255.8441 - mse: 1255.8441 - mae: 21.8812 - val_loss: 1336.8679 - val_mse: 1336.8679 - val_mae: 21.5667\n",
            "Epoch 14/75\n",
            "50/50 [==============================] - 1s 14ms/step - loss: 1128.5967 - mse: 1128.5967 - mae: 20.1044 - val_loss: 1144.7571 - val_mse: 1144.7571 - val_mae: 18.8513\n",
            "Epoch 15/75\n",
            "50/50 [==============================] - 1s 13ms/step - loss: 889.1519 - mse: 889.1519 - mae: 17.6269 - val_loss: 947.4810 - val_mse: 947.4810 - val_mae: 17.5393\n",
            "Epoch 16/75\n",
            "50/50 [==============================] - 1s 14ms/step - loss: 717.0115 - mse: 717.0115 - mae: 14.9680 - val_loss: 797.4608 - val_mse: 797.4608 - val_mae: 16.4273\n",
            "Epoch 17/75\n",
            "50/50 [==============================] - 1s 13ms/step - loss: 524.9752 - mse: 524.9752 - mae: 14.0212 - val_loss: 734.7922 - val_mse: 734.7922 - val_mae: 16.8516\n",
            "Epoch 18/75\n",
            "50/50 [==============================] - 1s 14ms/step - loss: 530.6168 - mse: 530.6168 - mae: 14.5571 - val_loss: 630.0336 - val_mse: 630.0336 - val_mae: 14.8510\n",
            "Epoch 19/75\n",
            "50/50 [==============================] - 1s 14ms/step - loss: 451.8543 - mse: 451.8543 - mae: 12.8435 - val_loss: 572.0330 - val_mse: 572.0330 - val_mae: 14.3897\n",
            "Epoch 20/75\n",
            "50/50 [==============================] - 1s 14ms/step - loss: 412.6813 - mse: 412.6813 - mae: 12.5138 - val_loss: 510.5908 - val_mse: 510.5908 - val_mae: 13.4864\n",
            "Epoch 21/75\n",
            "50/50 [==============================] - 1s 14ms/step - loss: 325.5184 - mse: 325.5184 - mae: 11.1202 - val_loss: 492.6968 - val_mse: 492.6968 - val_mae: 13.3656\n",
            "Epoch 22/75\n",
            "50/50 [==============================] - 1s 12ms/step - loss: 325.3574 - mse: 325.3574 - mae: 11.1736 - val_loss: 432.9283 - val_mse: 432.9283 - val_mae: 12.1594\n",
            "Epoch 23/75\n",
            "50/50 [==============================] - 1s 11ms/step - loss: 270.9432 - mse: 270.9432 - mae: 10.1178 - val_loss: 441.8097 - val_mse: 441.8097 - val_mae: 13.2777\n",
            "Epoch 24/75\n",
            "50/50 [==============================] - 1s 11ms/step - loss: 302.6464 - mse: 302.6464 - mae: 11.0748 - val_loss: 372.6327 - val_mse: 372.6327 - val_mae: 11.4089\n",
            "Epoch 25/75\n",
            "50/50 [==============================] - 1s 12ms/step - loss: 235.7088 - mse: 235.7088 - mae: 9.7411 - val_loss: 347.8976 - val_mse: 347.8976 - val_mae: 10.8367\n",
            "Epoch 26/75\n",
            "50/50 [==============================] - 1s 12ms/step - loss: 236.1653 - mse: 236.1653 - mae: 9.5491 - val_loss: 317.3605 - val_mse: 317.3605 - val_mae: 10.6364\n",
            "Epoch 27/75\n",
            "50/50 [==============================] - 1s 12ms/step - loss: 249.9863 - mse: 249.9863 - mae: 9.6778 - val_loss: 308.5186 - val_mse: 308.5186 - val_mae: 10.6886\n",
            "Epoch 28/75\n",
            "50/50 [==============================] - 1s 13ms/step - loss: 256.3022 - mse: 256.3022 - mae: 9.8477 - val_loss: 300.5553 - val_mse: 300.5553 - val_mae: 10.0869\n",
            "Epoch 29/75\n",
            "50/50 [==============================] - 1s 12ms/step - loss: 179.7709 - mse: 179.7709 - mae: 8.3030 - val_loss: 307.8741 - val_mse: 307.8741 - val_mae: 11.1880\n",
            "Epoch 30/75\n",
            "50/50 [==============================] - 1s 12ms/step - loss: 191.2517 - mse: 191.2517 - mae: 8.9486 - val_loss: 254.3280 - val_mse: 254.3280 - val_mae: 9.5591\n",
            "Epoch 31/75\n",
            "50/50 [==============================] - 1s 12ms/step - loss: 150.1719 - mse: 150.1719 - mae: 7.9783 - val_loss: 242.9614 - val_mse: 242.9614 - val_mae: 9.1653\n",
            "Epoch 32/75\n",
            "50/50 [==============================] - 1s 12ms/step - loss: 161.8383 - mse: 161.8383 - mae: 8.1192 - val_loss: 226.8223 - val_mse: 226.8223 - val_mae: 9.1921\n",
            "Epoch 33/75\n",
            "50/50 [==============================] - 1s 12ms/step - loss: 156.3107 - mse: 156.3107 - mae: 8.0008 - val_loss: 212.1422 - val_mse: 212.1422 - val_mae: 8.5279\n",
            "Epoch 34/75\n",
            "50/50 [==============================] - 1s 11ms/step - loss: 126.4598 - mse: 126.4598 - mae: 7.2039 - val_loss: 200.6821 - val_mse: 200.6821 - val_mae: 8.3082\n",
            "Epoch 35/75\n",
            "50/50 [==============================] - 1s 12ms/step - loss: 120.5920 - mse: 120.5920 - mae: 7.0992 - val_loss: 201.2229 - val_mse: 201.2229 - val_mae: 8.5719\n",
            "Epoch 36/75\n",
            "50/50 [==============================] - 1s 11ms/step - loss: 122.8062 - mse: 122.8062 - mae: 7.3347 - val_loss: 182.4526 - val_mse: 182.4526 - val_mae: 7.8737\n",
            "Epoch 37/75\n",
            "50/50 [==============================] - 1s 11ms/step - loss: 112.5663 - mse: 112.5663 - mae: 7.0177 - val_loss: 185.3881 - val_mse: 185.3881 - val_mae: 7.7178\n",
            "Epoch 38/75\n",
            "50/50 [==============================] - 1s 11ms/step - loss: 97.9331 - mse: 97.9331 - mae: 6.3663 - val_loss: 161.6355 - val_mse: 161.6355 - val_mae: 7.8662\n",
            "Epoch 39/75\n",
            "50/50 [==============================] - 1s 12ms/step - loss: 113.5352 - mse: 113.5352 - mae: 7.0088 - val_loss: 161.9954 - val_mse: 161.9954 - val_mae: 7.4409\n",
            "Epoch 40/75\n",
            "50/50 [==============================] - 1s 11ms/step - loss: 118.9038 - mse: 118.9038 - mae: 7.0541 - val_loss: 145.0108 - val_mse: 145.0108 - val_mae: 7.5908\n",
            "Epoch 41/75\n",
            "50/50 [==============================] - 1s 11ms/step - loss: 104.8865 - mse: 104.8865 - mae: 6.6421 - val_loss: 131.4652 - val_mse: 131.4652 - val_mae: 6.7450\n",
            "Epoch 42/75\n",
            "50/50 [==============================] - 1s 11ms/step - loss: 88.7952 - mse: 88.7952 - mae: 6.1538 - val_loss: 148.4226 - val_mse: 148.4226 - val_mae: 6.8579\n",
            "Epoch 43/75\n",
            "50/50 [==============================] - 1s 11ms/step - loss: 73.0915 - mse: 73.0915 - mae: 5.9046 - val_loss: 123.7855 - val_mse: 123.7855 - val_mae: 7.3040\n",
            "Epoch 44/75\n",
            "50/50 [==============================] - 1s 11ms/step - loss: 84.1851 - mse: 84.1851 - mae: 5.9760 - val_loss: 117.4826 - val_mse: 117.4826 - val_mae: 7.0145\n",
            "Epoch 45/75\n",
            "50/50 [==============================] - 1s 11ms/step - loss: 75.3420 - mse: 75.3420 - mae: 5.7851 - val_loss: 100.2654 - val_mse: 100.2654 - val_mae: 5.9073\n",
            "Epoch 46/75\n",
            "50/50 [==============================] - 1s 12ms/step - loss: 77.3206 - mse: 77.3206 - mae: 5.6887 - val_loss: 114.5663 - val_mse: 114.5663 - val_mae: 5.6326\n",
            "Epoch 47/75\n",
            "50/50 [==============================] - 1s 12ms/step - loss: 67.9813 - mse: 67.9813 - mae: 5.4528 - val_loss: 91.8211 - val_mse: 91.8211 - val_mae: 5.5535\n",
            "Epoch 48/75\n",
            "50/50 [==============================] - 1s 11ms/step - loss: 67.2738 - mse: 67.2738 - mae: 5.5556 - val_loss: 84.6164 - val_mse: 84.6164 - val_mae: 5.8610\n",
            "Epoch 49/75\n",
            "50/50 [==============================] - 1s 14ms/step - loss: 61.4726 - mse: 61.4726 - mae: 5.3852 - val_loss: 95.0967 - val_mse: 95.0967 - val_mae: 5.7323\n",
            "Epoch 50/75\n",
            "50/50 [==============================] - 1s 12ms/step - loss: 58.6911 - mse: 58.6911 - mae: 5.1567 - val_loss: 84.2747 - val_mse: 84.2747 - val_mae: 5.8536\n",
            "Epoch 51/75\n",
            "50/50 [==============================] - 1s 12ms/step - loss: 60.6114 - mse: 60.6114 - mae: 5.3358 - val_loss: 72.9468 - val_mse: 72.9468 - val_mae: 5.2742\n",
            "Epoch 52/75\n",
            "50/50 [==============================] - 1s 12ms/step - loss: 46.0506 - mse: 46.0506 - mae: 4.6966 - val_loss: 73.8095 - val_mse: 73.8095 - val_mae: 4.7916\n",
            "Epoch 53/75\n",
            "50/50 [==============================] - 1s 12ms/step - loss: 50.4702 - mse: 50.4702 - mae: 4.9662 - val_loss: 68.0430 - val_mse: 68.0430 - val_mae: 5.1577\n",
            "Epoch 54/75\n",
            "50/50 [==============================] - 1s 12ms/step - loss: 41.2205 - mse: 41.2205 - mae: 4.4510 - val_loss: 69.0878 - val_mse: 69.0878 - val_mae: 5.5938\n",
            "Epoch 55/75\n",
            "50/50 [==============================] - 1s 12ms/step - loss: 46.2071 - mse: 46.2071 - mae: 4.8906 - val_loss: 63.6928 - val_mse: 63.6928 - val_mae: 5.1093\n",
            "Epoch 56/75\n",
            "50/50 [==============================] - 1s 12ms/step - loss: 54.5175 - mse: 54.5175 - mae: 5.0200 - val_loss: 57.5417 - val_mse: 57.5417 - val_mae: 4.8616\n",
            "Epoch 57/75\n",
            "50/50 [==============================] - 1s 13ms/step - loss: 41.4014 - mse: 41.4014 - mae: 4.5581 - val_loss: 66.0379 - val_mse: 66.0379 - val_mae: 4.8122\n",
            "Epoch 58/75\n",
            "50/50 [==============================] - 1s 12ms/step - loss: 40.8715 - mse: 40.8715 - mae: 4.3862 - val_loss: 49.5393 - val_mse: 49.5393 - val_mae: 4.3527\n",
            "Epoch 59/75\n",
            "50/50 [==============================] - 1s 12ms/step - loss: 42.7437 - mse: 42.7437 - mae: 4.5439 - val_loss: 55.2066 - val_mse: 55.2066 - val_mae: 4.2934\n",
            "Epoch 60/75\n",
            "50/50 [==============================] - 1s 13ms/step - loss: 35.3759 - mse: 35.3759 - mae: 4.1002 - val_loss: 50.5072 - val_mse: 50.5072 - val_mae: 4.1154\n",
            "Epoch 61/75\n",
            "50/50 [==============================] - 1s 13ms/step - loss: 31.2844 - mse: 31.2844 - mae: 3.8996 - val_loss: 47.7309 - val_mse: 47.7309 - val_mae: 3.8338\n",
            "Epoch 62/75\n",
            "50/50 [==============================] - 1s 13ms/step - loss: 36.2993 - mse: 36.2993 - mae: 4.0568 - val_loss: 61.6425 - val_mse: 61.6425 - val_mae: 4.0496\n",
            "Epoch 63/75\n",
            "50/50 [==============================] - 1s 12ms/step - loss: 33.6683 - mse: 33.6683 - mae: 3.9380 - val_loss: 43.3956 - val_mse: 43.3956 - val_mae: 3.7441\n",
            "Epoch 64/75\n",
            "50/50 [==============================] - 1s 12ms/step - loss: 38.6049 - mse: 38.6049 - mae: 4.3445 - val_loss: 55.5459 - val_mse: 55.5459 - val_mae: 4.7335\n",
            "Epoch 65/75\n",
            "50/50 [==============================] - 1s 12ms/step - loss: 37.1107 - mse: 37.1107 - mae: 4.3077 - val_loss: 42.4421 - val_mse: 42.4421 - val_mae: 3.9894\n",
            "Epoch 66/75\n",
            "50/50 [==============================] - 1s 12ms/step - loss: 31.6999 - mse: 31.6999 - mae: 3.9883 - val_loss: 37.3280 - val_mse: 37.3280 - val_mae: 3.7441\n",
            "Epoch 67/75\n",
            "50/50 [==============================] - 1s 12ms/step - loss: 25.5532 - mse: 25.5532 - mae: 3.6545 - val_loss: 42.3565 - val_mse: 42.3565 - val_mae: 4.4393\n",
            "Epoch 68/75\n",
            "50/50 [==============================] - 1s 12ms/step - loss: 31.2612 - mse: 31.2612 - mae: 3.9196 - val_loss: 34.3695 - val_mse: 34.3695 - val_mae: 3.6749\n",
            "Epoch 69/75\n",
            "50/50 [==============================] - 1s 13ms/step - loss: 28.5174 - mse: 28.5174 - mae: 3.6456 - val_loss: 33.9737 - val_mse: 33.9737 - val_mae: 3.7838\n",
            "Epoch 70/75\n",
            "50/50 [==============================] - 1s 12ms/step - loss: 29.4905 - mse: 29.4905 - mae: 3.9119 - val_loss: 32.8465 - val_mse: 32.8465 - val_mae: 3.8798\n",
            "Epoch 71/75\n",
            "50/50 [==============================] - 1s 12ms/step - loss: 25.8656 - mse: 25.8656 - mae: 3.5517 - val_loss: 41.5304 - val_mse: 41.5304 - val_mae: 4.0512\n",
            "Epoch 72/75\n",
            "50/50 [==============================] - 1s 12ms/step - loss: 31.0067 - mse: 31.0067 - mae: 3.8234 - val_loss: 39.4063 - val_mse: 39.4063 - val_mae: 4.3818\n",
            "Epoch 73/75\n",
            "50/50 [==============================] - 1s 12ms/step - loss: 24.8541 - mse: 24.8541 - mae: 3.6873 - val_loss: 35.1520 - val_mse: 35.1520 - val_mae: 3.6878\n",
            "Epoch 74/75\n",
            "50/50 [==============================] - 1s 13ms/step - loss: 24.4421 - mse: 24.4421 - mae: 3.5753 - val_loss: 38.4584 - val_mse: 38.4584 - val_mae: 3.8468\n",
            "Epoch 75/75\n",
            "50/50 [==============================] - 1s 12ms/step - loss: 27.8209 - mse: 27.8209 - mae: 3.5911 - val_loss: 37.2429 - val_mse: 37.2429 - val_mae: 4.1937\n"
          ],
          "name": "stdout"
        }
      ]
    },
    {
      "cell_type": "code",
      "metadata": {
        "colab": {
          "base_uri": "https://localhost:8080/",
          "height": 312
        },
        "id": "v8oUvIMpmIL7",
        "outputId": "9c66adf3-2626-4647-e274-699a87708151"
      },
      "source": [
        "print(history.history.keys())\r\n",
        "# \"Loss\"\r\n",
        "plt.plot(history.history['loss'])\r\n",
        "plt.plot(history.history['val_loss'])\r\n",
        "plt.title('model loss')\r\n",
        "plt.ylabel('loss')\r\n",
        "plt.xlabel('epoch')\r\n",
        "plt.legend(['train', 'validation'], loc='upper left')\r\n",
        "plt.show()"
      ],
      "execution_count": 19,
      "outputs": [
        {
          "output_type": "stream",
          "text": [
            "dict_keys(['loss', 'mse', 'mae', 'val_loss', 'val_mse', 'val_mae'])\n"
          ],
          "name": "stdout"
        },
        {
          "output_type": "display_data",
          "data": {
            "image/png": "[encoded data removed]",
            "text/plain": [
              "<Figure size 432x288 with 1 Axes>"
            ]
          },
          "metadata": {
            "tags": [],
            "needs_background": "light"
          }
        }
      ]
    },
    {
      "cell_type": "code",
      "metadata": {
        "id": "VDjJCtFDoiQn",
        "colab": {
          "base_uri": "https://localhost:8080/"
        },
        "outputId": "a5ca08dd-f5c9-4e57-efe0-8a6cce7e2a4f"
      },
      "source": [
        "predictions"
      ],
      "execution_count": 20,
      "outputs": [
        {
          "output_type": "execute_result",
          "data": {
            "text/plain": [
              "array([[1231.866  ],\n",
              "       [1627.9785 ],\n",
              "       [1400.2234 ],\n",
              "       [1571.7751 ],\n",
              "       [ 873.7483 ],\n",
              "       [ 908.7221 ],\n",
              "       [1339.1866 ],\n",
              "       [1203.6064 ],\n",
              "       [1646.117  ],\n",
              "       [1401.736  ],\n",
              "       [1511.4397 ],\n",
              "       [1479.7311 ],\n",
              "       [ 965.01196],\n",
              "       [1448.4249 ],\n",
              "       [1636.7161 ],\n",
              "       [1484.1804 ],\n",
              "       [1444.9167 ],\n",
              "       [1151.721  ],\n",
              "       [ 851.6317 ],\n",
              "       [ 962.45166],\n",
              "       [1365.1116 ],\n",
              "       [ 819.8252 ],\n",
              "       [1266.4116 ],\n",
              "       [1391.6602 ],\n",
              "       [1539.3658 ],\n",
              "       [1343.5544 ],\n",
              "       [1583.4747 ],\n",
              "       [1740.5228 ],\n",
              "       [1369.3184 ],\n",
              "       [1665.7671 ],\n",
              "       [1346.2456 ],\n",
              "       [1332.1287 ],\n",
              "       [1731.8944 ],\n",
              "       [1697.7637 ],\n",
              "       [1298.1735 ],\n",
              "       [1735.377  ],\n",
              "       [1193.7567 ],\n",
              "       [1066.6035 ],\n",
              "       [ 915.11426],\n",
              "       [1225.2502 ],\n",
              "       [1166.7251 ],\n",
              "       [1699.421  ],\n",
              "       [1718.3115 ],\n",
              "       [1318.5233 ],\n",
              "       [1254.8767 ],\n",
              "       [1350.7788 ],\n",
              "       [1553.7351 ],\n",
              "       [1345.5891 ],\n",
              "       [1017.8582 ],\n",
              "       [1083.5889 ],\n",
              "       [1213.5989 ],\n",
              "       [1577.1309 ],\n",
              "       [ 826.6395 ],\n",
              "       [1363.7902 ],\n",
              "       [1104.1304 ],\n",
              "       [1136.2092 ],\n",
              "       [1337.9327 ],\n",
              "       [1402.4517 ],\n",
              "       [1296.4956 ],\n",
              "       [1295.2175 ],\n",
              "       [1244.4695 ],\n",
              "       [1540.581  ],\n",
              "       [1503.5137 ],\n",
              "       [1770.1619 ],\n",
              "       [1466.95   ],\n",
              "       [1304.6587 ],\n",
              "       [1404.1521 ],\n",
              "       [1283.0249 ],\n",
              "       [1358.273  ],\n",
              "       [1351.932  ],\n",
              "       [ 969.10754],\n",
              "       [1340.2307 ],\n",
              "       [ 977.4115 ],\n",
              "       [1561.2017 ],\n",
              "       [1480.245  ],\n",
              "       [1503.8453 ],\n",
              "       [1341.3298 ],\n",
              "       [1364.9048 ],\n",
              "       [1673.79   ],\n",
              "       [1741.3429 ],\n",
              "       [1349.9691 ],\n",
              "       [1428.071  ],\n",
              "       [1340.7852 ],\n",
              "       [1687.4082 ],\n",
              "       [ 819.1094 ],\n",
              "       [1064.478  ],\n",
              "       [1305.3481 ],\n",
              "       [1611.6553 ],\n",
              "       [1400.0819 ],\n",
              "       [1448.746  ],\n",
              "       [1487.7616 ],\n",
              "       [1675.4775 ],\n",
              "       [1777.741  ],\n",
              "       [ 894.0139 ],\n",
              "       [1524.5359 ],\n",
              "       [1656.9812 ],\n",
              "       [1434.1055 ],\n",
              "       [1822.6746 ],\n",
              "       [1733.2065 ],\n",
              "       [1161.4022 ],\n",
              "       [ 979.6573 ],\n",
              "       [1423.132  ],\n",
              "       [1495.6108 ],\n",
              "       [1139.79   ],\n",
              "       [1428.8518 ],\n",
              "       [1333.4998 ],\n",
              "       [1461.2422 ],\n",
              "       [1331.9673 ],\n",
              "       [1754.7354 ],\n",
              "       [1800.3127 ],\n",
              "       [1535.4075 ],\n",
              "       [1510.419  ],\n",
              "       [1365.3888 ],\n",
              "       [1571.5973 ],\n",
              "       [1361.8398 ],\n",
              "       [1809.0066 ],\n",
              "       [1660.1431 ],\n",
              "       [ 778.0012 ],\n",
              "       [1432.9722 ],\n",
              "       [1463.8127 ],\n",
              "       [1384.2374 ],\n",
              "       [1365.3038 ],\n",
              "       [1372.4865 ],\n",
              "       [1139.065  ],\n",
              "       [1585.1138 ],\n",
              "       [1073.6477 ],\n",
              "       [1756.9485 ],\n",
              "       [1076.6233 ],\n",
              "       [1221.9235 ],\n",
              "       [1376.4404 ],\n",
              "       [1300.626  ],\n",
              "       [1417.8201 ],\n",
              "       [1673.188  ],\n",
              "       [1009.8041 ],\n",
              "       [1125.0967 ],\n",
              "       [1530.5066 ],\n",
              "       [ 833.3822 ],\n",
              "       [ 861.3419 ],\n",
              "       [ 891.68365],\n",
              "       [1206.0419 ],\n",
              "       [1695.9812 ],\n",
              "       [1308.7887 ],\n",
              "       [1435.4515 ],\n",
              "       [ 914.7025 ],\n",
              "       [1294.5421 ],\n",
              "       [1609.7098 ],\n",
              "       [1579.5457 ],\n",
              "       [1523.9762 ],\n",
              "       [1671.4753 ],\n",
              "       [ 937.9343 ],\n",
              "       [1503.1404 ],\n",
              "       [1561.0339 ],\n",
              "       [1431.8184 ],\n",
              "       [1704.0737 ],\n",
              "       [1538.7319 ],\n",
              "       [1374.5608 ],\n",
              "       [1508.9875 ],\n",
              "       [1469.5209 ],\n",
              "       [1357.4622 ],\n",
              "       [1062.0916 ],\n",
              "       [1368.0612 ],\n",
              "       [ 947.2183 ],\n",
              "       [1566.0361 ],\n",
              "       [1237.3357 ],\n",
              "       [1572.1309 ],\n",
              "       [1240.5734 ],\n",
              "       [1451.3203 ],\n",
              "       [1125.9371 ],\n",
              "       [ 728.35657],\n",
              "       [1108.212  ],\n",
              "       [1538.457  ],\n",
              "       [1355.7505 ],\n",
              "       [1108.2378 ],\n",
              "       [1579.2452 ],\n",
              "       [1387.4816 ],\n",
              "       [1527.8298 ],\n",
              "       [1331.62   ],\n",
              "       [1488.7147 ],\n",
              "       [1263.973  ],\n",
              "       [1331.134  ],\n",
              "       [1499.2058 ],\n",
              "       [1160.3387 ],\n",
              "       [1481.237  ],\n",
              "       [1689.5349 ],\n",
              "       [1712.6415 ],\n",
              "       [1207.5333 ],\n",
              "       [1723.3777 ],\n",
              "       [1242.6576 ],\n",
              "       [1140.6229 ],\n",
              "       [1515.9847 ],\n",
              "       [1376.8174 ],\n",
              "       [1359.6064 ],\n",
              "       [1586.6365 ],\n",
              "       [ 995.9267 ],\n",
              "       [1359.4595 ],\n",
              "       [1399.0332 ],\n",
              "       [1513.5872 ],\n",
              "       [1519.784  ],\n",
              "       [1522.6205 ],\n",
              "       [1650.0189 ],\n",
              "       [1470.8289 ],\n",
              "       [1634.4065 ],\n",
              "       [ 917.6667 ],\n",
              "       [1421.2008 ],\n",
              "       [1505.4827 ],\n",
              "       [1551.1194 ],\n",
              "       [1668.5808 ],\n",
              "       [1595.0676 ],\n",
              "       [1468.9199 ],\n",
              "       [1268.5065 ],\n",
              "       [1504.2368 ],\n",
              "       [1462.2253 ],\n",
              "       [1326.1025 ],\n",
              "       [1714.314  ],\n",
              "       [1782.9666 ],\n",
              "       [1433.6527 ],\n",
              "       [1249.084  ],\n",
              "       [1147.4432 ],\n",
              "       [1523.9216 ],\n",
              "       [1379.5403 ],\n",
              "       [1546.4454 ],\n",
              "       [1535.1959 ],\n",
              "       [1312.4623 ],\n",
              "       [1278.2117 ],\n",
              "       [ 836.2934 ],\n",
              "       [1357.7755 ],\n",
              "       [1055.1168 ],\n",
              "       [1692.0117 ],\n",
              "       [1436.3209 ],\n",
              "       [1415.6259 ],\n",
              "       [1392.6768 ],\n",
              "       [1660.4541 ],\n",
              "       [1314.5201 ],\n",
              "       [ 977.87195],\n",
              "       [1519.1946 ],\n",
              "       [1373.6567 ],\n",
              "       [1585.8011 ],\n",
              "       [1040.6707 ],\n",
              "       [1117.0731 ],\n",
              "       [1665.1682 ],\n",
              "       [1337.4044 ],\n",
              "       [ 923.379  ],\n",
              "       [ 866.53   ],\n",
              "       [1381.2087 ],\n",
              "       [ 910.0883 ],\n",
              "       [ 806.85455],\n",
              "       [ 791.2056 ],\n",
              "       [1281.6953 ],\n",
              "       [1456.362  ],\n",
              "       [1680.8169 ],\n",
              "       [1233.4103 ],\n",
              "       [1465.8933 ],\n",
              "       [1121.458  ],\n",
              "       [ 939.5014 ],\n",
              "       [1396.1848 ],\n",
              "       [1653.355  ],\n",
              "       [ 721.48944],\n",
              "       [1327.7432 ],\n",
              "       [1144.9099 ],\n",
              "       [1335.3728 ],\n",
              "       [1348.8525 ],\n",
              "       [1292.3295 ],\n",
              "       [1683.1196 ],\n",
              "       [1357.8793 ],\n",
              "       [1082.5424 ],\n",
              "       [1500.7485 ],\n",
              "       [1302.1459 ],\n",
              "       [1464.9333 ],\n",
              "       [ 817.79034],\n",
              "       [1138.6987 ],\n",
              "       [1556.845  ],\n",
              "       [1512.5891 ],\n",
              "       [1774.4154 ],\n",
              "       [1188.2073 ],\n",
              "       [1254.5446 ],\n",
              "       [1371.983  ],\n",
              "       [1303.9489 ],\n",
              "       [1311.1594 ],\n",
              "       [1230.1077 ],\n",
              "       [1312.1257 ],\n",
              "       [1478.5688 ],\n",
              "       [1435.56   ],\n",
              "       [1311.6589 ],\n",
              "       [1103.915  ],\n",
              "       [1121.6852 ],\n",
              "       [1392.5259 ],\n",
              "       [1773.866  ],\n",
              "       [1154.4456 ],\n",
              "       [1295.8242 ],\n",
              "       [1362.4006 ],\n",
              "       [1641.6136 ],\n",
              "       [1361.5802 ],\n",
              "       [1282.6619 ],\n",
              "       [ 815.1137 ],\n",
              "       [1550.7869 ],\n",
              "       [1464.2604 ],\n",
              "       [1503.5939 ],\n",
              "       [1765.6841 ],\n",
              "       [ 943.481  ],\n",
              "       [1271.0907 ],\n",
              "       [1376.3643 ],\n",
              "       [1407.7832 ],\n",
              "       [1312.6917 ],\n",
              "       [1633.6699 ],\n",
              "       [ 964.95636],\n",
              "       [1677.6012 ],\n",
              "       [1623.9055 ],\n",
              "       [1333.6565 ],\n",
              "       [1365.4211 ],\n",
              "       [1330.0012 ],\n",
              "       [1264.0979 ],\n",
              "       [ 844.75586],\n",
              "       [1309.7078 ],\n",
              "       [1187.7668 ],\n",
              "       [1412.3956 ],\n",
              "       [1563.3757 ],\n",
              "       [1149.075  ],\n",
              "       [ 937.7735 ],\n",
              "       [1497.103  ],\n",
              "       [1347.7302 ],\n",
              "       [1488.7372 ],\n",
              "       [1625.1663 ],\n",
              "       [1339.3516 ],\n",
              "       [1337.6687 ],\n",
              "       [1671.8307 ],\n",
              "       [1217.9502 ],\n",
              "       [1301.0518 ],\n",
              "       [1390.0837 ],\n",
              "       [ 700.4208 ],\n",
              "       [1484.4119 ],\n",
              "       [1380.2444 ],\n",
              "       [ 990.9888 ],\n",
              "       [1536.6761 ],\n",
              "       [1560.9607 ],\n",
              "       [1318.7833 ],\n",
              "       [1440.4451 ],\n",
              "       [1246.233  ],\n",
              "       [1750.2823 ],\n",
              "       [1450.3224 ],\n",
              "       [1413.1981 ],\n",
              "       [1358.292  ],\n",
              "       [1221.1516 ],\n",
              "       [1571.8853 ],\n",
              "       [1428.3419 ],\n",
              "       [ 954.5576 ],\n",
              "       [1681.5006 ],\n",
              "       [1364.7245 ],\n",
              "       [1506.503  ],\n",
              "       [1545.0874 ],\n",
              "       [1452.889  ],\n",
              "       [1624.3196 ],\n",
              "       [1576.759  ],\n",
              "       [1278.5054 ],\n",
              "       [1315.125  ]], dtype=float32)"
            ]
          },
          "metadata": {
            "tags": []
          },
          "execution_count": 20
        }
      ]
    },
    {
      "cell_type": "code",
      "metadata": {
        "colab": {
          "base_uri": "https://localhost:8080/"
        },
        "id": "D2Jkwt7moiV3",
        "outputId": "e39c4eaa-351e-4513-c929-bcd2b4243940"
      },
      "source": [
        " btest = y_val\r\n",
        " bpred = predictions\r\n",
        " \r\n",
        " mean_absolute_error(btest, bpred)"
      ],
      "execution_count": 21,
      "outputs": [
        {
          "output_type": "execute_result",
          "data": {
            "text/plain": [
              "8.511848820400783"
            ]
          },
          "metadata": {
            "tags": []
          },
          "execution_count": 21
        }
      ]
    },
    {
      "cell_type": "markdown",
      "metadata": {
        "id": "dNhokETpZJun"
      },
      "source": [
        "We have got very low mean square error which showes that our model has trained well."
      ]
    },
    {
      "cell_type": "code",
      "metadata": {
        "id": "IWwxBSfToiao",
        "colab": {
          "base_uri": "https://localhost:8080/"
        },
        "outputId": "a2c83d57-918f-4cdf-e96a-dfeb97db7851"
      },
      "source": [
        "mean_squared_error(btest, bpred)\r\n",
        "\r\n",
        "math.sqrt(mean_squared_error(btest, bpred))"
      ],
      "execution_count": 22,
      "outputs": [
        {
          "output_type": "execute_result",
          "data": {
            "text/plain": [
              "12.68423351548988"
            ]
          },
          "metadata": {
            "tags": []
          },
          "execution_count": 22
        }
      ]
    }
  ]
}